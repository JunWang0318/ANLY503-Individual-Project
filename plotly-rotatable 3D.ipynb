{
 "cells": [
  {
   "cell_type": "code",
   "execution_count": 4,
   "metadata": {},
   "outputs": [
    {
     "data": {
      "text/plain": [
       "UN_region     188\n",
       "total         188\n",
       "population    188\n",
       "country       188\n",
       "dtype: int64"
      ]
     },
     "execution_count": 4,
     "metadata": {},
     "output_type": "execute_result"
    }
   ],
   "source": [
    "import pandas as pd\n",
    "import numpy as np\n",
    "import plotly.plotly as py\n",
    "from plotly.graph_objs import *\n",
    "#from plotly import __version__\n",
    "#from plotly.offline import download_plotlyjs, init_notebook_mode, plot,iplot\n",
    "#print (__version__) # requires version >= 1.9.0\n",
    "import plotly.graph_objs as go\n",
    "\n",
    "df = pd.read_csv('/Users/jun/Desktop/503 final/NFA.csv')\n",
    "df = df.loc[df['UN_region'] != 'World']\n",
    "df = df.loc[df['record'] == \"BiocapTotGHA\"]\n",
    "df = df.loc[df['year'] == 2014]\n",
    "df = df[['UN_region','total', 'population','country']]\n",
    "\n",
    "df.count()"
   ]
  },
  {
   "cell_type": "code",
   "execution_count": 9,
   "metadata": {},
   "outputs": [],
   "source": [
    "trace1 = go.Scatter3d(\n",
    "    x=df['UN_region'],\n",
    "    y=df['population'],\n",
    "    z=df['total'],\n",
    "    text=df['country'],\n",
    "    mode='markers',\n",
    "    marker=dict(\n",
    "        sizemode='diameter',\n",
    "        sizeref=10000000,\n",
    "        size=df['total'],\n",
    "        color = df['population'],\n",
    "        colorscale = 'Viridis',\n",
    "        colorbar = dict(title = 'Population'),\n",
    "        #line=dict(color='rgb(140, 140, 170)')\n",
    "    )\n",
    ")\n",
    "\n",
    "\n",
    "data=[trace1]\n",
    "\n",
    "#layout=go.Layout(height=800, width=800, title='Examining Population and Life Expectancy Over Time')\n",
    "\n",
    "layout = go.Layout(\n",
    "                    scene = dict(\n",
    "                        xaxis = dict(\n",
    "                            title='Region'),\n",
    "                        yaxis = dict(\n",
    "                            title='Population'),\n",
    "                        zaxis = dict(\n",
    "                            title='Total Land (global hectares)'),),\n",
    "                    width=700,\n",
    "                    height=800,\n",
    "                    title=\"Total Biocapacity for Each Region by Year vs. Population\",\n",
    "                    showlegend=False\n",
    "                  )\n",
    "\n",
    "\n",
    "\n",
    "fig=go.Figure(data=data, layout=layout)\n",
    "plot_url = py.plot(fig, filename='rotatable3d')"
   ]
  }
 ],
 "metadata": {
  "kernelspec": {
   "display_name": "Python 3",
   "language": "python",
   "name": "python3"
  },
  "language_info": {
   "codemirror_mode": {
    "name": "ipython",
    "version": 3
   },
   "file_extension": ".py",
   "mimetype": "text/x-python",
   "name": "python",
   "nbconvert_exporter": "python",
   "pygments_lexer": "ipython3",
   "version": "3.6.4"
  }
 },
 "nbformat": 4,
 "nbformat_minor": 2
}
